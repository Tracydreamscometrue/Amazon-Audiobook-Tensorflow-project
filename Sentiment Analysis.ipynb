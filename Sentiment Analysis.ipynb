{
 "cells": [
  {
   "cell_type": "code",
   "execution_count": null,
   "id": "3f1b2565-5fbc-4db6-bdd2-4307db96be71",
   "metadata": {},
   "outputs": [],
   "source": [
    "import pandas as pd\n",
    "import seaborn as sns\n",
    "import csv"
   ]
  },
  {
   "cell_type": "code",
   "execution_count": null,
   "id": "96277441-3e0c-4524-9b37-a7defeff3654",
   "metadata": {},
   "outputs": [],
   "source": [
    "file_path = 'user_courses_review_09_2023.csv'\n",
    "\n",
    "data_list = []\n",
    "\n",
    "EXPECTED_COLUMNS = 4  \n",
    "\n",
    "    for row in reader:\n",
    "        if len(row) == EXPECTED_COLUMNS:\n",
    "            data_list.append(row)\n",
    "        else:\n",
    "            print(f\"Skipping row {reader.line_num}: {row}\")\n",
    "\n"
   ]
  },
  {
   "cell_type": "code",
   "execution_count": null,
   "id": "115acd13-aabc-43f4-9e7f-e95686399218",
   "metadata": {},
   "outputs": [],
   "source": [
    "reader = csv.reader(file)"
   ]
  },
  {
   "cell_type": "code",
   "execution_count": null,
   "id": "859dab59-14c6-4e5d-bf8c-f711d7dba56f",
   "metadata": {},
   "outputs": [],
   "source": [
    "header = next(reader)"
   ]
  },
  {
   "cell_type": "code",
   "execution_count": null,
   "id": "35745e31-7f8e-4821-b5a1-57dec91ab591",
   "metadata": {},
   "outputs": [],
   "source": [
    "data = pd.DataFrame(data_list, columns = header)\n",
    "\n",
    "print data.head()"
   ]
  },
  {
   "cell_type": "code",
   "execution_count": null,
   "id": "34c17564-7c84-4c13-bbf0-853ac3aef4bd",
   "metadata": {},
   "outputs": [],
   "source": [
    "data_types = data.dtypes\n",
    "\n",
    "if data['review_rating'].dtype =='object':\n",
    "    data['review_rating'] = pd.to_numeric(data['review_rating'], errors='coerce')\n",
    "\n",
    "new_data_types = data.dtypes\n",
    "missing_values = data.isnull().sum()\n",
    "\n",
    "data_types, new_data_types, missing_values "
   ]
  },
  {
   "cell_type": "code",
   "execution_count": null,
   "id": "fc457b8a-f1ac-4f5e-8015-bd5e49a7544b",
   "metadata": {},
   "outputs": [],
   "source": [
    "import matplotlib.pyplot as plt\n",
    "\n",
    "data['review_ratings'].describe()\n",
    "\n",
    "plt.hist（data['review_ratings']).dropna(),bins = range(1,7),align ='left', \n",
    "\n",
    "plt.title('Distribution of Review Ratings')\n",
    "plt.xlabel('Rating'）\n",
    "plt.ylabel('Frequency'）\n",
    "plt.xticks(range(1,6))\n",
    "plt.grid(axis='y')\n",
    "plt.show()           \n",
    "\n"
   ]
  },
  {
   "cell_type": "code",
   "execution_count": null,
   "id": "cd7be828-ac11-43aa-bfea-1e2063c238d2",
   "metadata": {},
   "outputs": [],
   "source": [
    "clean_data = data.dropna()\n",
    "\n",
    "new_shape = clean_data.shape\n",
    "\n",
    "clean_data['comment_length']=clean_data['review_comment'].apply(len)\n",
    "correlation = clean_data[['ratings'],['comment_length']].corr()\n",
    "\n",
    "correlation\n",
    "\n"
   ]
  },
  {
   "cell_type": "code",
   "execution_count": null,
   "id": "1d5a64b7-e003-4dbb-8352-262fb0f98d3d",
   "metadata": {},
   "outputs": [],
   "source": [
    "import re\n",
    "\n",
    "patterns = {\n",
    "    \"positive_emphasis\": re.compile(r'\\b(great|good|exellent|amazing|love)\\b', re.IGNORECASE),\n",
    "    \"negative_emphasis\": re.compile(r'\\b(bad|terrible|awful|poor|worst|hate|disappoint)\\b', re.IGNORECASE),\n",
    "    \"question\": re.compile(r'\\?'),\n",
    "    \"exclamation\": re.compile(r'!'),\n",
    "    \"capital_words\": re.compile(r'\\b[A-Z]{2,}\\b')  # words with all letters capitalized, and at least two characters long\n",
    "}\n",
    "\n",
    "\n",
    "pattern_counts = {key: 0 for key in patterns}\n",
    "\n",
    "                  \n",
    "\n",
    "for review in clean_data[['review_comment']:\n",
    "    for key, pattern in patterns.items():\n",
    "        if re.search(pattern, review):\n",
    "            pattern_counts[key]+= 1\n",
    "                         \n",
    "                         \n",
    "pattern_counts                         \n",
    "    \n",
    "    "
   ]
  },
  {
   "cell_type": "code",
   "execution_count": null,
   "id": "421bcfbd-a88d-4091-af28-6bee2659d207",
   "metadata": {},
   "outputs": [],
   "source": [
    "from sklearn.model_selection import train_test_split\n",
    "from sklearn.feature_extraction.text import TfiVectorizer\n",
    "from sklearn.naive_bayes import MultinomialNB\n",
    "from sklearn.pipeline import make_pipeline\n",
    "from sklearn.metrics import classification_report, confusion_matrix\n",
    "import string\n"
   ]
  },
  {
   "cell_type": "code",
   "execution_count": null,
   "id": "d5ee62b8-23ea-4889-9286-0c76083d03f1",
   "metadata": {},
   "outputs": [],
   "source": [
    "def clean_text(text):\n",
    "    text = text.lower()\n",
    "    text = text.translate(str.maketrans('','',string.punctuation)）\n",
    "    return text\n",
    "                          \n",
    "lean_data.loc[:, 'review_comment'] = clean_data.loc[:,'review_comment']apply(clean_text)                         \n",
    "                          \n",
    "                          \n",
    "X = clean_data.loc[:,'review_comment']\n",
    "Y = clean_data.loc[:,'ratings']                         \n",
    "                          \n",
    "X_train, X_test, Y_train, Y_test = train_test_split(X,Y,test_size = 0.2,  random_state=42)\n",
    "                          "
   ]
  },
  {
   "cell_type": "code",
   "execution_count": null,
   "id": "aa0a4c4d-68e5-42b6-bec1-eda899868bcd",
   "metadata": {},
   "outputs": [],
   "source": [
    "vectorizer = TfidfVectorizer(stop_words='english')\n",
    "\n",
    "model = MultinomialNB()\n",
    "\n",
    "text_clf = make_pipeline(vectorizer, model)\n",
    "\n",
    "text_clf.fit(X_train, Y_train)\n",
    "\n",
    "Y_pred =  text_clf.predict(X_test)\n",
    "\n",
    "report = classification_report(Y_test, Y_pred) \n",
    "\n",
    "conf_matrix = confusion_matrix(Y_test, Y_pred) \n",
    "\n",
    "report, conf_matrix"
   ]
  },
  {
   "cell_type": "code",
   "execution_count": null,
   "id": "4cd5f977-3634-4cf5-b40d-c45de7ebe3bd",
   "metadata": {},
   "outputs": [],
   "source": [
    "from sklearn.utils import resample\n",
    "\n",
    "df_majority = clean_data[clean_data.review_rating == 5]\n",
    "df_minority = clean_data[clean_data.review_rating < 5]\n",
    "\n",
    "df_minority_upsampled = resample(df_minority,\n",
    "                                 replace=True, \n",
    "                                 n_sample=len(df_majority),\n",
    "                                 random_state=42)\n",
    "\n",
    "df_upsampled =  pd.concat([df_majority, df_minority_upsampled'])\n",
    "                           \n",
    "df_upsampled.review_rating.value_count()                          \n"
   ]
  },
  {
   "cell_type": "code",
   "execution_count": null,
   "id": "31aa49c5-3d50-436a-b562-daeb6ba9d482",
   "metadata": {},
   "outputs": [],
   "source": [
    "X_upsampled = df_upsampled['review_comment']\n",
    "Y_upsampled = df_upsampled['review_rating']\n",
    "\n",
    "X_train_upsampled, X_test_upsampled, y_train_upsampled, y_test_upsampled = train_text_split(X_upsampled, Y_upsampled, test_size = 0.2, random_state = 42)\n",
    "\n",
    "text_clf_upsampled = make_pipeline(vectorizer, model)\n",
    "text_clf_upsampled.fit(X_train_upsampled, Y_train_upsampled） \n",
    "\n",
    "Y_predict_upsampled = text_clf_upsampled.predict(X_test_upsampled)                       \n",
    "\n",
    "report_upsampled = classification_report(y_test_upsampled, y_pred_upsampled)\n",
    "\n",
    "conf_matrix_upsampled = confusion_matrix(y_test_upsampled, y_pred_upsampled)                      \n",
    "\n",
    "report_upsampled,  conf_matrix_upsampled                      "
   ]
  },
  {
   "cell_type": "code",
   "execution_count": null,
   "id": "52d4abb1-f4f4-4a89-ac69-942543f08018",
   "metadata": {},
   "outputs": [],
   "source": [
    "plt.figure(figsize=(8,6))\n",
    "\n",
    "sns.heatmap(conf_matrix_upsampled, annot=True, fmt='d', cmap='Blues', xticklables=['1', '2', '3', '4', '5'], yticklables=['1', '2', '3', '4', '5'])\n",
    "plt.xlabel(\"Actual\")\n",
    "plt.ylabel(\"Predicted\")\n",
    "plt.title('Confusion Matrix')\n",
    "plt.show()"
   ]
  }
 ],
 "metadata": {
  "kernelspec": {
   "display_name": "sagemaker-distribution:Python",
   "language": "python",
   "name": "conda-env-sagemaker-distribution-py"
  },
  "language_info": {
   "codemirror_mode": {
    "name": "ipython",
    "version": 3
   },
   "file_extension": ".py",
   "mimetype": "text/x-python",
   "name": "python",
   "nbconvert_exporter": "python",
   "pygments_lexer": "ipython3",
   "version": "3.8.17"
  }
 },
 "nbformat": 4,
 "nbformat_minor": 5
}
